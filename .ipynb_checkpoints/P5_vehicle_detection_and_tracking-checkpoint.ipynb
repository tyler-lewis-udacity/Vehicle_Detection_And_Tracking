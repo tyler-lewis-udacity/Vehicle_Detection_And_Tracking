{
 "cells": [
  {
   "cell_type": "code",
   "execution_count": 1,
   "metadata": {},
   "outputs": [
    {
     "name": "stdout",
     "output_type": "stream",
     "text": [
      "Anaconda Environment: P5\n",
      "\n",
      "Python Version: 3.5.5 |Anaconda, Inc.| (default, Apr 26 2018, 08:11:22) \n",
      "[GCC 4.2.1 Compatible Clang 4.0.1 (tags/RELEASE_401/final)]\n",
      "\n",
      "project folder path: /Users/ty/Udacity/T1/P5_vehicle_detection_and_tracking\n",
      "\n",
      "There are 18 items in project folder:\n",
      "\n",
      " -  P5_vehicle_detection_and_tracking.ipynb\n",
      " -  test_images\n",
      " -  bbox-example-image.jpg\n",
      " -  output_images\n",
      " -  LICENSE\n",
      " -  project_video.mp4\n",
      " -  launch_P5.sh\n",
      " -  README.md\n",
      " -  .gitignore\n",
      " -  examples\n",
      " -  writeup_template.md\n",
      " -  numpy_basics.py\n",
      " -  .ipynb_checkpoints\n",
      " -  bbox-example-image-out.jpg\n",
      " -  .git\n",
      " -  lecture_notes.ipynb\n",
      " -  draw_boxes.py\n",
      " -  test_video.mp4\n"
     ]
    }
   ],
   "source": [
    "# Get miscellaneous system information\n",
    "import os\n",
    "import sys\n",
    "\n",
    "# Returns the current conda environment if found, 'None' if not found\n",
    "def get_conda_env():\n",
    "    sp = sys.path[1].split('/')\n",
    "    if 'envs' in sp:\n",
    "        return sp[sp.index(\"envs\") + 1]\n",
    "    else:\n",
    "        return None\n",
    "# Get the current Anaconda Environment name\n",
    "conda_env = get_conda_env()\n",
    "print(\"Anaconda Environment: {}\\n\".format(conda_env))\n",
    "\n",
    "# Get the Python version that is currently running\n",
    "python_version = sys.version\n",
    "print(\"Python Version: {}\\n\".format(python_version))\n",
    "\n",
    "# Get the path to the project folder\n",
    "project_path = os.getcwd()\n",
    "print(\"project folder path: {}\\n\".format(project_path))\n",
    "\n",
    "# Print out the number of items in the project folder\n",
    "print(\"There are {0} items in the project folder:\\n\".format(len(os.listdir())))\n",
    "for item in os.listdir():\n",
    "     print(\" - \", item)"
   ]
  },
  {
   "cell_type": "code",
   "execution_count": null,
   "metadata": {},
   "outputs": [],
   "source": []
  }
 ],
 "metadata": {
  "kernelspec": {
   "display_name": "Python 3",
   "language": "python",
   "name": "python3"
  },
  "language_info": {
   "codemirror_mode": {
    "name": "ipython",
    "version": 3
   },
   "file_extension": ".py",
   "mimetype": "text/x-python",
   "name": "python",
   "nbconvert_exporter": "python",
   "pygments_lexer": "ipython3",
   "version": "3.5.5"
  }
 },
 "nbformat": 4,
 "nbformat_minor": 2
}

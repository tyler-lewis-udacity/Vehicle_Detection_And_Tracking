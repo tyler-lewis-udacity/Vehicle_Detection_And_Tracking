{
 "cells": [
  {
   "cell_type": "code",
   "execution_count": 6,
   "metadata": {},
   "outputs": [
    {
     "name": "stdout",
     "output_type": "stream",
     "text": [
      "Python Version: 3.6.4 |Anaconda, Inc.| (default, Jan 16 2018, 18:10:19) \n",
      "[GCC 7.2.0]\n",
      "\n",
      "Anaconda Environment Name: py36\n",
      "\n",
      "Project Directory Path: /home/ty/Udacity/T1/P5_vehicle_detection_and_tracking\n",
      "\n",
      "Theproject folder:\n",
      "\n",
      " -  project_video.mp4\n",
      " -  README.md\n",
      " -  examples\n",
      " -  .git\n",
      " -  output_images\n",
      " -  .gitignore\n",
      " -  test_images\n",
      " -  .ipynb_checkpoints\n",
      " -  test_video.mp4\n",
      " -  LICENSE\n",
      " -  launch_P5.sh\n",
      " -  P5_vehicle_detection_and_tracking.ipynb\n",
      " -  writeup_template.md\n"
     ]
    }
   ],
   "source": [
    "import os\n",
    "import sys\n",
    "\n",
    "# Get the Python version that is currently running this program\n",
    "python_version = sys.version\n",
    "print(\"Python Version: {}\\n\".format(python_version))\n",
    "\n",
    "# Returns the current conda environment if found, 'None' if not found\n",
    "def get_conda_env():\n",
    "    sp = sys.path[1].split('/')\n",
    "    if 'envs' in sp:\n",
    "        return sp[sp.index(\"envs\") + 1]\n",
    "    else:\n",
    "        return None\n",
    "\n",
    "# Get the current Anaconda Environment name\n",
    "conda_env = get_conda_env()\n",
    "print(\"Anaconda Environment Name: {}\\n\".format(conda_env))\n",
    "\n",
    "project_path = os.getcwd()\n",
    "print(\"Project Directory Path: {}\\n\".format(project_path))\n",
    "\n",
    "print(\"Theproject folder:\\n\")\n",
    "\n",
    "for item in os.listdir():\n",
    "     print(\" - \", item)"
   ]
  }
 ],
 "metadata": {
  "kernelspec": {
   "display_name": "Python 3",
   "language": "python",
   "name": "python3"
  },
  "language_info": {
   "codemirror_mode": {
    "name": "ipython",
    "version": 3
   },
   "file_extension": ".py",
   "mimetype": "text/x-python",
   "name": "python",
   "nbconvert_exporter": "python",
   "pygments_lexer": "ipython3",
   "version": "3.6.4"
  }
 },
 "nbformat": 4,
 "nbformat_minor": 2
}
